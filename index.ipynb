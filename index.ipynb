{
  "cells": [
    {
      "cell_type": "markdown",
      "metadata": {
        "id": "n_Q71zSo_CYT"
      },
      "source": [
        "# Introduction to Neural Networks - Lab"
      ]
    },
    {
      "cell_type": "markdown",
      "metadata": {
        "id": "-j9xXri2_CYX"
      },
      "source": [
        "## Introduction"
      ]
    },
    {
      "cell_type": "markdown",
      "metadata": {
        "id": "0ROhKGmM_CYX"
      },
      "source": [
        "In this lab, you'll practice everything you have learned during the lecture. We know there is quite a bit of math involved, but don't worry! Using Python and trying things out yourself will actually make a lot of things much more clear! Before we start, let's load some necessary libraries so we can import our data."
      ]
    },
    {
      "cell_type": "markdown",
      "metadata": {
        "id": "QSdKwfkb_CYY"
      },
      "source": [
        "## Objectives\n",
        "\n",
        "In this lab you will:\n",
        "\n",
        "- Import images using Keras\n",
        "- Build a \"shallow\" neural network from scratch"
      ]
    },
    {
      "cell_type": "markdown",
      "metadata": {
        "id": "wWTUOBm1_CYY"
      },
      "source": [
        "As usual, we'll start by importing the necessary packages that we'll use in this lab."
      ]
    },
    {
      "cell_type": "code",
      "execution_count": 1,
      "metadata": {
        "id": "W2LQQIhr_CYZ"
      },
      "outputs": [],
      "source": [
        "from keras.preprocessing.image import ImageDataGenerator\n",
        "from tensorflow.keras.utils import array_to_img, img_to_array, load_img\n",
        "import numpy as np\n",
        "import os"
      ]
    },
    {
      "cell_type": "markdown",
      "metadata": {
        "id": "g_igY4qC_CYa"
      },
      "source": [
        "In this lab, you'll import a bunch of images to correctly classify them as \"Santa\", meaning that Santa is present on the image or \"not Santa\" meaning that something else is in the images.\n",
        "\n",
        "If you have a look at this GitHub repository, you'll notice that the images are simply stored in `.jpeg` files and stored under the folder `'/data'`. Luckily, `keras` has great modules that make importing images stored in this type of format easy. We'll do this for you in the cell below.\n",
        "\n",
        "The images in the `'/data'` folder have various resolutions. We will reshape them so they are all 64 x 64 pixels.\n",
        "\n",
        "Run the code as you see it below."
      ]
    },
    {
      "cell_type": "code",
      "execution_count": 8,
      "metadata": {
        "id": "Rwwl_osa_CYb",
        "outputId": "1370f07d-dd12-4d60-c689-079f389c6b8f",
        "colab": {
          "base_uri": "https://localhost:8080/",
          "height": 454
        }
      },
      "outputs": [
        {
          "output_type": "stream",
          "name": "stdout",
          "text": [
            "Does train directory exist?  False\n",
            "Does test directory exist?  False\n"
          ]
        },
        {
          "output_type": "error",
          "ename": "FileNotFoundError",
          "evalue": "[Errno 2] No such file or directory: '/Users/alexandrayakovleva/Flatiron/phase4/dsc-introduction-to-neural-networks-lab-master/data/validation'",
          "traceback": [
            "\u001b[0;31m---------------------------------------------------------------------------\u001b[0m",
            "\u001b[0;31mFileNotFoundError\u001b[0m                         Traceback (most recent call last)",
            "\u001b[0;32m<ipython-input-8-556988a0b1cc>\u001b[0m in \u001b[0;36m<cell line: 10>\u001b[0;34m()\u001b[0m\n\u001b[1;32m      8\u001b[0m \u001b[0;34m\u001b[0m\u001b[0m\n\u001b[1;32m      9\u001b[0m \u001b[0;31m# Get all the data in the directory data/validation (132 images), and reshape them\u001b[0m\u001b[0;34m\u001b[0m\u001b[0;34m\u001b[0m\u001b[0m\n\u001b[0;32m---> 10\u001b[0;31m test_generator = ImageDataGenerator().flow_from_directory(\n\u001b[0m\u001b[1;32m     11\u001b[0m         \u001b[0mtest_data_dir\u001b[0m\u001b[0;34m,\u001b[0m\u001b[0;34m\u001b[0m\u001b[0;34m\u001b[0m\u001b[0m\n\u001b[1;32m     12\u001b[0m         target_size=(64, 64), batch_size=132)\n",
            "\u001b[0;32m/usr/local/lib/python3.10/dist-packages/keras/src/preprocessing/image.py\u001b[0m in \u001b[0;36mflow_from_directory\u001b[0;34m(self, directory, target_size, color_mode, classes, class_mode, batch_size, shuffle, seed, save_to_dir, save_prefix, save_format, follow_links, subset, interpolation, keep_aspect_ratio)\u001b[0m\n\u001b[1;32m   1647\u001b[0m             \u001b[0;32mand\u001b[0m\u001b[0;31m \u001b[0m\u001b[0;31m`\u001b[0m\u001b[0my\u001b[0m\u001b[0;31m`\u001b[0m \u001b[0;32mis\u001b[0m \u001b[0ma\u001b[0m \u001b[0mnumpy\u001b[0m \u001b[0marray\u001b[0m \u001b[0mof\u001b[0m \u001b[0mcorresponding\u001b[0m \u001b[0mlabels\u001b[0m\u001b[0;34m.\u001b[0m\u001b[0;34m\u001b[0m\u001b[0;34m\u001b[0m\u001b[0m\n\u001b[1;32m   1648\u001b[0m         \"\"\"\n\u001b[0;32m-> 1649\u001b[0;31m         return DirectoryIterator(\n\u001b[0m\u001b[1;32m   1650\u001b[0m             \u001b[0mdirectory\u001b[0m\u001b[0;34m,\u001b[0m\u001b[0;34m\u001b[0m\u001b[0;34m\u001b[0m\u001b[0m\n\u001b[1;32m   1651\u001b[0m             \u001b[0mself\u001b[0m\u001b[0;34m,\u001b[0m\u001b[0;34m\u001b[0m\u001b[0;34m\u001b[0m\u001b[0m\n",
            "\u001b[0;32m/usr/local/lib/python3.10/dist-packages/keras/src/preprocessing/image.py\u001b[0m in \u001b[0;36m__init__\u001b[0;34m(self, directory, image_data_generator, target_size, color_mode, classes, class_mode, batch_size, shuffle, seed, data_format, save_to_dir, save_prefix, save_format, follow_links, subset, interpolation, keep_aspect_ratio, dtype)\u001b[0m\n\u001b[1;32m    561\u001b[0m         \u001b[0;32mif\u001b[0m \u001b[0;32mnot\u001b[0m \u001b[0mclasses\u001b[0m\u001b[0;34m:\u001b[0m\u001b[0;34m\u001b[0m\u001b[0;34m\u001b[0m\u001b[0m\n\u001b[1;32m    562\u001b[0m             \u001b[0mclasses\u001b[0m \u001b[0;34m=\u001b[0m \u001b[0;34m[\u001b[0m\u001b[0;34m]\u001b[0m\u001b[0;34m\u001b[0m\u001b[0;34m\u001b[0m\u001b[0m\n\u001b[0;32m--> 563\u001b[0;31m             \u001b[0;32mfor\u001b[0m \u001b[0msubdir\u001b[0m \u001b[0;32min\u001b[0m \u001b[0msorted\u001b[0m\u001b[0;34m(\u001b[0m\u001b[0mos\u001b[0m\u001b[0;34m.\u001b[0m\u001b[0mlistdir\u001b[0m\u001b[0;34m(\u001b[0m\u001b[0mdirectory\u001b[0m\u001b[0;34m)\u001b[0m\u001b[0;34m)\u001b[0m\u001b[0;34m:\u001b[0m\u001b[0;34m\u001b[0m\u001b[0;34m\u001b[0m\u001b[0m\n\u001b[0m\u001b[1;32m    564\u001b[0m                 \u001b[0;32mif\u001b[0m \u001b[0mos\u001b[0m\u001b[0;34m.\u001b[0m\u001b[0mpath\u001b[0m\u001b[0;34m.\u001b[0m\u001b[0misdir\u001b[0m\u001b[0;34m(\u001b[0m\u001b[0mos\u001b[0m\u001b[0;34m.\u001b[0m\u001b[0mpath\u001b[0m\u001b[0;34m.\u001b[0m\u001b[0mjoin\u001b[0m\u001b[0;34m(\u001b[0m\u001b[0mdirectory\u001b[0m\u001b[0;34m,\u001b[0m \u001b[0msubdir\u001b[0m\u001b[0;34m)\u001b[0m\u001b[0;34m)\u001b[0m\u001b[0;34m:\u001b[0m\u001b[0;34m\u001b[0m\u001b[0;34m\u001b[0m\u001b[0m\n\u001b[1;32m    565\u001b[0m                     \u001b[0mclasses\u001b[0m\u001b[0;34m.\u001b[0m\u001b[0mappend\u001b[0m\u001b[0;34m(\u001b[0m\u001b[0msubdir\u001b[0m\u001b[0;34m)\u001b[0m\u001b[0;34m\u001b[0m\u001b[0;34m\u001b[0m\u001b[0m\n",
            "\u001b[0;31mFileNotFoundError\u001b[0m: [Errno 2] No such file or directory: '/Users/alexandrayakovleva/Flatiron/phase4/dsc-introduction-to-neural-networks-lab-master/data/validation'"
          ]
        }
      ],
      "source": [
        "# Directory path\n",
        "train_data_dir = '/Users/alexandrayakovleva/Flatiron/phase4/dsc-introduction-to-neural-networks-lab-master/data/train'\n",
        "test_data_dir = '/Users/alexandrayakovleva/Flatiron/phase4/dsc-introduction-to-neural-networks-lab-master/data/validation'\n",
        "\n",
        "# Verify if the directories exist\n",
        "print(\"Does train directory exist? \", os.path.exists(train_data_dir))\n",
        "print(\"Does test directory exist? \", os.path.exists(test_data_dir))\n",
        "\n",
        "# Get all the data in the directory data/validation (132 images), and reshape them\n",
        "test_generator = ImageDataGenerator().flow_from_directory(\n",
        "        test_data_dir,\n",
        "        target_size=(64, 64), batch_size=132)\n",
        "\n",
        "# Get all the data in the directory data/train (790 images), and reshape them\n",
        "train_generator = ImageDataGenerator().flow_from_directory(\n",
        "        train_data_dir,\n",
        "        target_size=(64, 64), batch_size=790)\n",
        "\n",
        "# Create the datasets\n",
        "train_images, train_labels = next(train_generator)\n",
        "test_images, test_labels = next(test_generator)"
      ]
    },
    {
      "cell_type": "markdown",
      "metadata": {
        "id": "ipft8Onc_CYb"
      },
      "source": [
        "## Inspect and prepare data"
      ]
    },
    {
      "cell_type": "markdown",
      "metadata": {
        "id": "T190bcYx_CYc"
      },
      "source": [
        "## Look at some images"
      ]
    },
    {
      "cell_type": "markdown",
      "metadata": {
        "id": "2QZV3t30_CYc"
      },
      "source": [
        "Note that we have four numpy arrays now: `train_images`, `train_labels`, `test_images`, and `test_labels`. We'll need to make some changes to the data in order to work with them, but before we do anything else, let's have a look at some of the images we loaded in `train_images`. You can use `array_to_img()` from `keras.processing.image` on any image (select any `train_images` using `train_images[index]` to look at it)."
      ]
    },
    {
      "cell_type": "code",
      "execution_count": null,
      "metadata": {
        "id": "KOsId2VC_CYc"
      },
      "outputs": [],
      "source": [
        "# Preview an image\n",
        "array_to_img(train_images[240])"
      ]
    },
    {
      "cell_type": "code",
      "execution_count": null,
      "metadata": {
        "id": "_6RiLy1s_CYc"
      },
      "outputs": [],
      "source": [
        "# Preview another image\n",
        "array_to_img(test_images[2])"
      ]
    },
    {
      "cell_type": "markdown",
      "metadata": {
        "id": "Fvz9FJPt_CYd"
      },
      "source": [
        "## The shape of data"
      ]
    },
    {
      "cell_type": "markdown",
      "metadata": {
        "id": "xeY-dVQm_CYd"
      },
      "source": [
        "Now, let's use `np.shape()` to look at what these numpy arrays look like."
      ]
    },
    {
      "cell_type": "code",
      "execution_count": null,
      "metadata": {
        "id": "PmrsNZEM_CYd"
      },
      "outputs": [],
      "source": [
        "# Preview the shape of both the images and labels for both the train and test sets (4 objects total)\n",
        "print(np.shape(train_images))\n",
        "print(np.shape(train_labels))\n",
        "print(np.shape(test_images))\n",
        "print(np.shape(test_labels))"
      ]
    },
    {
      "cell_type": "markdown",
      "metadata": {
        "id": "TY9PM95X_CYd"
      },
      "source": [
        "##  `train_images` and `test_images`"
      ]
    },
    {
      "cell_type": "markdown",
      "metadata": {
        "id": "6q8H-JNm_CYd"
      },
      "source": [
        "Let's start with `train_images`. From the lesson, you might remember that the expected input shape is $n$ x $l$. How does this relate to what we see here?\n",
        "\n",
        "$l$ denotes the number of observations, or the number of images. The number of images in `train_images` is 790. $n$ is the number of elements in the feature vector for each image, or put differently, $n$ is the number of rows when unrowing the 3 (RGB) 64 x 64 matrices.\n",
        "\n",
        "So, translated to this example, we need to transform our `(790, 64, 64, 3)` matrix to a `(64*64*3, 790)` matrix!\n",
        "\n",
        "\n",
        "> Hint: You should use both the `.reshape()` method and then transpose the result using `.T`."
      ]
    },
    {
      "cell_type": "code",
      "execution_count": 9,
      "metadata": {
        "id": "ttSvxc6g_CYd",
        "outputId": "8a68ead8-0f37-4b32-be06-a1bad40e7580",
        "colab": {
          "base_uri": "https://localhost:8080/",
          "height": 162
        }
      },
      "outputs": [
        {
          "output_type": "error",
          "ename": "NameError",
          "evalue": "name 'train_images' is not defined",
          "traceback": [
            "\u001b[0;31m---------------------------------------------------------------------------\u001b[0m",
            "\u001b[0;31mNameError\u001b[0m                                 Traceback (most recent call last)",
            "\u001b[0;32m<ipython-input-9-9955cfda7aa4>\u001b[0m in \u001b[0;36m<cell line: 2>\u001b[0;34m()\u001b[0m\n\u001b[1;32m      1\u001b[0m \u001b[0;31m# Reshape the train images\u001b[0m\u001b[0;34m\u001b[0m\u001b[0;34m\u001b[0m\u001b[0m\n\u001b[0;32m----> 2\u001b[0;31m \u001b[0mtrain_img_unrow\u001b[0m \u001b[0;34m=\u001b[0m \u001b[0mtrain_images\u001b[0m\u001b[0;34m.\u001b[0m\u001b[0mreshape\u001b[0m\u001b[0;34m(\u001b[0m\u001b[0;32mNone\u001b[0m\u001b[0;34m,\u001b[0m \u001b[0;34m-\u001b[0m\u001b[0;36m1\u001b[0m\u001b[0;34m)\u001b[0m\u001b[0;34m.\u001b[0m\u001b[0mT\u001b[0m\u001b[0;34m\u001b[0m\u001b[0;34m\u001b[0m\u001b[0m\n\u001b[0m",
            "\u001b[0;31mNameError\u001b[0m: name 'train_images' is not defined"
          ]
        }
      ],
      "source": [
        "# Reshape the train images\n",
        "train_img_unrow = train_images.reshape(train_images.shape[0], -1).T"
      ]
    },
    {
      "cell_type": "markdown",
      "metadata": {
        "id": "wOkPZDG-_CYe"
      },
      "source": [
        "Verify that the shape of the the newly created `train_img_unrow` is correct."
      ]
    },
    {
      "cell_type": "code",
      "execution_count": null,
      "metadata": {
        "id": "NsW1DYjy_CYe"
      },
      "outputs": [],
      "source": [
        "# Preview the shape of train_img_unrow\n",
        "np.shape(train_img_unrow)"
      ]
    },
    {
      "cell_type": "markdown",
      "metadata": {
        "id": "5b1iEQOG_CYe"
      },
      "source": [
        "Next, let's transform `test_images` in a similar way. Note that the dimensions are different here! Where we needed to have a matrix shape of $n$ x $l$ for `train_images`; for `test_images`, we need to get to a shape of $n$ x $m$. What is $m$ here?"
      ]
    },
    {
      "cell_type": "code",
      "execution_count": null,
      "metadata": {
        "id": "ch0K6sva_CYe"
      },
      "outputs": [],
      "source": [
        "# Define appropriate m\n",
        "m = test_images.shape[0]\n",
        "test_img_unrow = test_images.reshape(m, -1).T"
      ]
    },
    {
      "cell_type": "code",
      "execution_count": null,
      "metadata": {
        "id": "XaH1IUwX_CYe"
      },
      "outputs": [],
      "source": [
        "# Preview the shape of test_img_unrow\n",
        "np.shape(test_img_unrow)"
      ]
    },
    {
      "cell_type": "markdown",
      "metadata": {
        "id": "brccazuZ_CYf"
      },
      "source": [
        "## `train_labels` and `test_labels`"
      ]
    },
    {
      "cell_type": "markdown",
      "metadata": {
        "id": "XbiNQNR6_CYf"
      },
      "source": [
        "Earlier, you noticed that `train_labels` and `test_labels` have shapes of $(790, 2)$ and $(132, 2)$ respectively. In the lesson, we expected $1$ x $l$ and $1$ x $m$.\n",
        "\n",
        "Let's have a closer look."
      ]
    },
    {
      "cell_type": "code",
      "execution_count": null,
      "metadata": {
        "id": "6lT-EPlQ_CYf"
      },
      "outputs": [],
      "source": [
        "# Run this cell; no need to edit\n",
        "train_labels"
      ]
    },
    {
      "cell_type": "markdown",
      "metadata": {
        "id": "e-_fSMbx_CYf"
      },
      "source": [
        "Looking at this, it's clear that for each observation (or image), `train_labels` doesn't simply have an output of 1 or 0, but a pair - either `[0, 1]` or `[1, 0]`.\n",
        "\n",
        "Having this information, we still don't know which pair corresponds with `santa` versus `not_santa`. Luckily, this was stored using `keras.preprocessing_image`, and you can get more info using the command `train_generator.class_indices`."
      ]
    },
    {
      "cell_type": "code",
      "execution_count": null,
      "metadata": {
        "id": "bY9AAwHE_CYf"
      },
      "outputs": [],
      "source": [
        "# Run this cell; no need to edit\n",
        "train_generator.class_indices"
      ]
    },
    {
      "cell_type": "markdown",
      "metadata": {
        "id": "puPF_Fyz_CYf"
      },
      "source": [
        "Index 0 (the first column) represents `not_santa`, index 1 represents `santa`. Select one of the two columns and transpose the result such that you get $1$ x $l$ and $1$ x $m$ vectors respectively, and value `1` represents `santa`."
      ]
    },
    {
      "cell_type": "code",
      "execution_count": null,
      "metadata": {
        "id": "260lYWht_CYg"
      },
      "outputs": [],
      "source": [
        "# Your code here\n",
        "train_labels_final = train_labels.T[[1]]"
      ]
    },
    {
      "cell_type": "code",
      "execution_count": null,
      "metadata": {
        "id": "HuK5zIYs_CYg"
      },
      "outputs": [],
      "source": [
        "# Run this cell; no need to edit\n",
        "np.shape(train_labels_final)"
      ]
    },
    {
      "cell_type": "code",
      "execution_count": null,
      "metadata": {
        "id": "Z2e1zIPn_CYg"
      },
      "outputs": [],
      "source": [
        "# Your code here\n",
        "test_labels_final = test_labels.T[[1]]"
      ]
    },
    {
      "cell_type": "code",
      "execution_count": null,
      "metadata": {
        "id": "p2Ndb9ND_CYg"
      },
      "outputs": [],
      "source": [
        "# Run this cell; no need to edit\n",
        "np.shape(test_labels_final)"
      ]
    },
    {
      "cell_type": "markdown",
      "metadata": {
        "id": "hKOmgiyz_CYg"
      },
      "source": [
        "As a final sanity check, look at an image and the corresponding label, so we're sure that santa is indeed stored as 1.\n",
        "\n",
        "- First, use `array_to_image()` again on the original `train_images` with index 240 to look at this particular image\n",
        "- Use `train_labels_final` to get the 240th label"
      ]
    },
    {
      "cell_type": "code",
      "execution_count": null,
      "metadata": {
        "id": "iCQCAEn0_CYh"
      },
      "outputs": [],
      "source": [
        "# Preview train image at index 240\n",
        "plt.imshow(array_to_img(train_images[240]))\n",
        "plt.axis('off')\n",
        "plt.show()"
      ]
    },
    {
      "cell_type": "code",
      "execution_count": null,
      "metadata": {
        "id": "JB09_icP_CYh"
      },
      "outputs": [],
      "source": [
        "# Preview train label at index 240\n",
        "train_labels_final[:, 240]"
      ]
    },
    {
      "cell_type": "markdown",
      "metadata": {
        "id": "LYpalGpp_CYh"
      },
      "source": [
        "This seems to be correct! Feel free to try out other indices as well."
      ]
    },
    {
      "cell_type": "markdown",
      "metadata": {
        "id": "BI5J9YOr_CYh"
      },
      "source": [
        "## Standardize the data"
      ]
    },
    {
      "cell_type": "markdown",
      "metadata": {
        "id": "2uJKdTDj_CYm"
      },
      "source": [
        "Remember that each RGB pixel in an image takes a value between 0 and 255. In Deep Learning, it is very common to standardize and/or center your dataset. For images, a common thing that is done is to make sure each pixel value is between 0 and 1. This can be done by dividing the entire matrix by 255. Do this here for the `train_img_unrow` and `test_img_unrow`."
      ]
    },
    {
      "cell_type": "code",
      "execution_count": null,
      "metadata": {
        "id": "hur6uNxM_CYn"
      },
      "outputs": [],
      "source": [
        "# Your code here\n",
        "train_img_final = train_img_unrow / 255\n",
        "test_img_final = test_img_unrow / 255\n",
        "\n",
        "type(test_img_unrow)"
      ]
    },
    {
      "cell_type": "markdown",
      "metadata": {
        "id": "1Jv3_aFB_CYn"
      },
      "source": [
        "## Build a logistic regression-based neural network"
      ]
    },
    {
      "cell_type": "markdown",
      "metadata": {
        "id": "ap_Rn9g4_CYn"
      },
      "source": [
        "## Math recap"
      ]
    },
    {
      "cell_type": "markdown",
      "metadata": {
        "id": "9l6YwIJS_CYn"
      },
      "source": [
        "Now we can go ahead and build our own basic logistic regression-based neural network to distinguish images with Santa from images without Santa. You saw in the lesson that logistic regression can actually be represented as a very simple neural network.\n",
        "\n",
        "Remember that we defined that, for each $x^{(i)}$:\n",
        "\n",
        "\n",
        "$$ \\mathcal{L}(\\hat y ^{(i)}, y^{(i)}) =  - \\big( y^{(i)} \\log(\\hat y^{(i)}) + (1-y^{(i)} )  \\log(1-\\hat y^{(i)})\\big)$$\n",
        "\n",
        "$$\\hat{y}^{(i)} = \\sigma(z^{(i)}) = \\frac{1}{1 + e^{-(z^{(i)})}}$$\n",
        "\n",
        "$$z^{(i)} = w^T x^{(i)} + b$$\n",
        "\n",
        "The cost function is then given by:\n",
        "$$J(w,b) = \\dfrac{1}{l}\\displaystyle\\sum^l_{i=1}\\mathcal{L}(\\hat y^{(i)}, y^{(i)})$$"
      ]
    },
    {
      "cell_type": "markdown",
      "metadata": {
        "id": "gFL1Uygj_CYn"
      },
      "source": [
        "In the remainder of this lab, you'll do the following:\n",
        "\n",
        "   - Initialize the parameters of the model\n",
        "   - Perform forward propagation, and calculate the current loss\n",
        "   - Perform backward propagation (which is basically calculating the current gradient)\n",
        "   - Update the parameters (gradient descent)"
      ]
    },
    {
      "cell_type": "markdown",
      "metadata": {
        "id": "1Jl8yE2R_CYn"
      },
      "source": [
        "## Parameter initialization"
      ]
    },
    {
      "cell_type": "markdown",
      "metadata": {
        "id": "Y0mFdNq8_CYo"
      },
      "source": [
        "$w$ and $b$ are the unknown parameters to start with:\n",
        "- remember that $b$ is a scalar\n",
        "- $w$ however, is a vector of shape $n$ x $1$, with $n$ being `horizontal_pixel x vertical_pixel x 3`"
      ]
    },
    {
      "cell_type": "markdown",
      "metadata": {
        "id": "RdcKyeqP_CYo"
      },
      "source": [
        "## Initialize $b$"
      ]
    },
    {
      "cell_type": "markdown",
      "metadata": {
        "id": "ukwRn_o4_CYo"
      },
      "source": [
        " Initialize $b$ as a scalar with value 0."
      ]
    },
    {
      "cell_type": "code",
      "execution_count": null,
      "metadata": {
        "id": "nym-jFlz_CYo"
      },
      "outputs": [],
      "source": [
        "# Your code here\n",
        "b = 0"
      ]
    },
    {
      "cell_type": "markdown",
      "metadata": {
        "id": "YnNyOj5G_CYo"
      },
      "source": [
        "## Initialize $w$"
      ]
    },
    {
      "cell_type": "markdown",
      "metadata": {
        "id": "u8HQzaHc_CYo"
      },
      "source": [
        "Define a function `init_w()`, with a parameter `n`. The function should return an array with zeros that has a shape $n$ x $1$."
      ]
    },
    {
      "cell_type": "code",
      "execution_count": null,
      "metadata": {
        "id": "jxSvr-Al_CYp"
      },
      "outputs": [],
      "source": [
        "# Define your function\n",
        "def init_w(n):\n",
        "    w = np.zeros((n, 1))\n",
        "    return w"
      ]
    },
    {
      "cell_type": "code",
      "execution_count": null,
      "metadata": {
        "id": "iC8W9O9f_CYp"
      },
      "outputs": [],
      "source": [
        "# Call your function using appropriate parameters\n",
        "w = init_w(64*64*3)"
      ]
    },
    {
      "cell_type": "markdown",
      "metadata": {
        "id": "5C-rikcJ_CYp"
      },
      "source": [
        "## Forward propagation"
      ]
    },
    {
      "cell_type": "markdown",
      "metadata": {
        "id": "ApdXFfeK_CYp"
      },
      "source": [
        "In forward propagation, you:\n",
        "- get `x`\n",
        "- compute `y_hat`:\n",
        "\n",
        "$$ (\\hat y^{(1)}, \\hat y^{(2)}, \\ldots , \\hat y^{(l)})= \\sigma(w^T x + b) = \\Biggr(\\dfrac{1}{1+exp(w^T x^{(1)}+ b)},\\ldots, \\dfrac{1}{1+exp(w^T x^{(l)}+ b)}\\Biggr) $$\n",
        "- You calculate the `cost` function: $J(w,b) = -\\dfrac{1}{l}\\displaystyle\\sum_{i=1}^{l}y^{(i)}\\log(\\hat y^{(i)})+(1-y^{(i)})\\log(1-\\hat y^{(i)})$\n",
        "\n",
        "Here are the two formulas you will be using to compute the gradients. Don't be scared by the mathematics. The long formulas are just to show that this corresponds with what we derived in the lesson!\n",
        "\n",
        "$$ \\frac{dJ(w,b)}{dw} = \\displaystyle\\frac{1}{l}\\displaystyle\\sum^l_{i=1} \\frac{d\\mathcal{L}(\\hat y^{(i)}, y^{(i)})}{dw}= \\displaystyle\\frac{1}{l}\\displaystyle\\sum^l_{i=1} x^{(i)} dz^{(i)}  = \\displaystyle\\frac{1}{l}\\displaystyle\\sum^l_{i=1} x^{(i)}(\\hat y^{(i)}-y^{(i)})  = \\frac{1}{l}x(\\hat y-y)^T$$\n",
        "\n",
        "$$ \\frac{dJ(w,b)}{db} = \\displaystyle\\frac{1}{l}\\displaystyle\\sum^l_{i=1} \\frac{d\\mathcal{L}(\\hat y^{(i)}, y^{(i)})}{db}= \\displaystyle\\frac{1}{l}\\displaystyle\\sum^l_{i=1} dz^{(i)}  = \\displaystyle\\frac{1}{l}\\displaystyle\\sum^l_{i=1} (\\hat y^{(i)}-y^{(i)})$$"
      ]
    },
    {
      "cell_type": "code",
      "execution_count": null,
      "metadata": {
        "id": "wU8QPeDB_CYp"
      },
      "outputs": [],
      "source": [
        "# Define the propagation function\n",
        "def propagation(w, b, x, y):\n",
        "    l = x.shape[1]\n",
        "    y_hat = 1/(1 + np.exp(- (np.dot(w.T, x) + b)))\n",
        "    cost = -(1/l) * np.sum(y * np.log(y_hat) + (1-y)* np.log(1 - y_hat))\n",
        "    dw = (1/l) * np.dot(x,(y_hat - y).T)\n",
        "    db = (1/l) * np.sum(y_hat - y)\n",
        "    return dw, db, cost"
      ]
    },
    {
      "cell_type": "code",
      "execution_count": null,
      "metadata": {
        "id": "Wlgd1dY7_CYq"
      },
      "outputs": [],
      "source": [
        "# Use the propogation function\n",
        "dw, db, cost = propagation(w, b, train_img_final, train_labels_final)"
      ]
    },
    {
      "cell_type": "code",
      "execution_count": null,
      "metadata": {
        "id": "KMCrcK0E_CYq"
      },
      "outputs": [],
      "source": [
        "print(dw)\n",
        "\n",
        "print(db)\n",
        "\n",
        "print(cost)"
      ]
    },
    {
      "cell_type": "markdown",
      "metadata": {
        "id": "_C5d1NSZ_CYq"
      },
      "source": [
        "## Optimization"
      ]
    },
    {
      "cell_type": "markdown",
      "metadata": {
        "id": "lRlj_1Pm_CYq"
      },
      "source": [
        "Next, in the optimization step, we have to update $w$ and $b$ as follows:\n",
        "\n",
        "$$w := w - \\alpha * dw$$\n",
        "$$b := b - \\alpha * db$$\n",
        "\n",
        "Note that this `optimization()` function uses the `propagation()` function. It loops over the `propagation()` function in each iteration, and updates both $w$ and $b$ right after that!"
      ]
    },
    {
      "cell_type": "code",
      "execution_count": null,
      "metadata": {
        "id": "YKgCTdMh_CYq"
      },
      "outputs": [],
      "source": [
        "# Complete the function below using your propagation function to define dw, db and cost\n",
        "# Then use the formula above to update w and b in the optimization function\n",
        "def optimization(w, b, x, y, num_iterations, learning_rate, print_cost = False):\n",
        "\n",
        "    costs = []\n",
        "\n",
        "    for i in range(num_iterations):\n",
        "        dw, db, cost = propagation(w, b, train_img_final, train_labels_final)\n",
        "        w = w - learning_rate*dw\n",
        "        b = db - learning_rate*db\n",
        "\n",
        "        # Record the costs and print them every 50 iterations\n",
        "        if i % 50 == 0:\n",
        "            costs.append(cost)\n",
        "        if print_cost and i % 50 == 0:\n",
        "            print (\"Cost after iteration %i: %f\" %(i, cost))\n",
        "\n",
        "    return w, b, costs"
      ]
    },
    {
      "cell_type": "code",
      "execution_count": null,
      "metadata": {
        "id": "nkzn9j-I_CYr"
      },
      "outputs": [],
      "source": [
        "# Run this block of code as is\n",
        "w, b, costs = optimization(w, b, train_img_final, train_labels_final,\n",
        "                           num_iterations= 151, learning_rate = 0.0001, print_cost = True)"
      ]
    },
    {
      "cell_type": "markdown",
      "metadata": {
        "id": "lH5MkMSU_CYr"
      },
      "source": [
        "## Make label predictions: Santa or not?"
      ]
    },
    {
      "cell_type": "markdown",
      "metadata": {
        "id": "Xmfc6tT3_CYr"
      },
      "source": [
        "Next, let's create a function that makes label predictions. We'll later use this when we will look at our Santa pictures. What we want is a label that is equal to 1 when the predicted $y$ is bigger than 0.5, and 0 otherwise."
      ]
    },
    {
      "cell_type": "code",
      "execution_count": null,
      "metadata": {
        "id": "SHLY99uw_CYr"
      },
      "outputs": [],
      "source": [
        "def prediction(w, b, x):\n",
        "    l = x.shape[1]\n",
        "    y_prediction = np.zeros((1, l))\n",
        "    w = w.reshape(x.shape[0], 1)\n",
        "    y_hat = 1/(1 + np.exp(- (np.dot(w.T, x) + b)))\n",
        "    p = y_hat\n",
        "\n",
        "    for i in range(y_hat.shape[1]):\n",
        "        # Transform the probability into a binary classification using 0.5 as the cutoff\n",
        "        if p[0, i] > 0.5:\n",
        "            y_prediction[0, i] = 1\n",
        "        else:\n",
        "            y_prediction[0, i] = 0\n",
        "    return y_prediction"
      ]
    },
    {
      "cell_type": "markdown",
      "metadata": {
        "id": "ybUkkr-6_CYr"
      },
      "source": [
        "Let's try this out on a small example. Make sure you have 4 predictions in your output here!"
      ]
    },
    {
      "cell_type": "code",
      "execution_count": null,
      "metadata": {
        "id": "X8nMzB-p_CYs"
      },
      "outputs": [],
      "source": [
        "# Run this block of code as is\n",
        "w = np.array([[0.035], [0.123], [0.217]])\n",
        "b = 0.2\n",
        "x = np.array([[0.2, 0.4, -1.2, -2],\n",
        "              [1, -2., 0.1, -1],\n",
        "              [0.2, 0.4, -1.2, -2]])\n",
        "\n",
        "prediction(w, b, x)"
      ]
    },
    {
      "cell_type": "markdown",
      "metadata": {
        "id": "4_g3__NT_CYs"
      },
      "source": [
        "## The overall model"
      ]
    },
    {
      "cell_type": "markdown",
      "metadata": {
        "id": "8x798Zb7_CYs"
      },
      "source": [
        "Now, let's build the overall model!"
      ]
    },
    {
      "cell_type": "code",
      "execution_count": null,
      "metadata": {
        "id": "-mcatnPv_CYs"
      },
      "outputs": [],
      "source": [
        "# Review this code carefully\n",
        "def model(x_train, y_train, x_test, y_test, num_iterations = 2000, learning_rate = 0.5, print_cost = False):\n",
        "\n",
        "    b = 0\n",
        "    w = init_w(np.shape(x_train)[0])\n",
        "\n",
        "    # Gradient descent (≈ 1 line of code)\n",
        "    w, b, costs = optimization(w, b, x_train, y_train, num_iterations, learning_rate, print_cost)\n",
        "\n",
        "    y_pred_test = prediction(w, b, x_test)\n",
        "    y_pred_train = prediction(w, b, x_train)\n",
        "\n",
        "    # Print train/test errors\n",
        "    print('train accuracy: {} %'.format(100 - np.mean(np.abs(y_pred_train - y_train)) * 100))\n",
        "    print('test accuracy: {} %'.format(100 - np.mean(np.abs(y_pred_test - y_test)) * 100))\n",
        "\n",
        "    output = {'costs': costs,\n",
        "              'y_pred_test': y_pred_test,\n",
        "              'y_pred_train' : y_pred_train,\n",
        "              'w' : w,\n",
        "              'b' : b,\n",
        "              'learning_rate' : learning_rate,\n",
        "              'num_iterations': num_iterations}\n",
        "\n",
        "    return output"
      ]
    },
    {
      "cell_type": "code",
      "execution_count": null,
      "metadata": {
        "id": "eX5oIv0e_CYt"
      },
      "outputs": [],
      "source": [
        "# Run the model!\n",
        "# ⏰ Expect your code to take several minutes to run\n",
        "output = model(train_img_final, train_labels_final, test_img_final, test_labels_final,\n",
        "               num_iterations=2000, learning_rate=0.005, print_cost=True)"
      ]
    },
    {
      "cell_type": "markdown",
      "metadata": {
        "id": "30UELBXA_CYt"
      },
      "source": [
        "## Summary\n",
        "\n",
        "Well done! In this lab you built your first neural network in order to identify images of Santa! In the upcoming labs you'll see how to extend your neural networks to include a larger number of layers and how to then successively prune these complex schemas to improve test and train accuracies."
      ]
    }
  ],
  "metadata": {
    "kernelspec": {
      "display_name": "Python (learn-env)",
      "language": "python",
      "name": "learn-env"
    },
    "language_info": {
      "codemirror_mode": {
        "name": "ipython",
        "version": 3
      },
      "file_extension": ".py",
      "mimetype": "text/x-python",
      "name": "python",
      "nbconvert_exporter": "python",
      "pygments_lexer": "ipython3",
      "version": "3.9.15"
    },
    "toc": {
      "base_numbering": 1,
      "nav_menu": {},
      "number_sections": true,
      "sideBar": true,
      "skip_h1_title": false,
      "title_cell": "Table of Contents",
      "title_sidebar": "Contents",
      "toc_cell": false,
      "toc_position": {},
      "toc_section_display": true,
      "toc_window_display": false
    },
    "colab": {
      "provenance": []
    }
  },
  "nbformat": 4,
  "nbformat_minor": 0
}